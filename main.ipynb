{
 "cells": [
  {
   "cell_type": "markdown",
   "id": "5ad33a74",
   "metadata": {},
   "source": [
    "# **Application de l'algorithme de Gale & Shapley.**"
   ]
  },
  {
   "cell_type": "markdown",
   "id": "88fa201f",
   "metadata": {},
   "source": [
    "# Liste des éléments avec leurs préférences."
   ]
  },
  {
   "cell_type": "code",
   "execution_count": 2,
   "id": "54f63167",
   "metadata": {},
   "outputs": [],
   "source": [
    "A = {}\n",
    "A[\"a1\"] = [\"b2\", \"b1\", \"b3\"]\n",
    "A[\"a2\"] = [\"b1\", \"b3\", \"b2\"]\n",
    "A[\"a3\"] = [\"b1\", \"b2\", \"b3\"]\n",
    "\n",
    "B = {}\n",
    "B[\"b1\"] = [\"a1\", \"a3\", \"a2\"]\n",
    "B[\"b2\"] = [\"a3\", \"a1\", \"a2\"]\n",
    "B[\"b3\"] = [\"a3\", \"a2\", \"a1\"]"
   ]
  },
  {
   "cell_type": "markdown",
   "id": "d0e67c00",
   "metadata": {},
   "source": [
    "# Algorithme principale."
   ]
  },
  {
   "cell_type": "code",
   "execution_count": null,
   "id": "3169aab4",
   "metadata": {},
   "outputs": [],
   "source": []
  }
 ],
 "metadata": {
  "kernelspec": {
   "display_name": "venv",
   "language": "python",
   "name": "python3"
  },
  "language_info": {
   "codemirror_mode": {
    "name": "ipython",
    "version": 3
   },
   "file_extension": ".py",
   "mimetype": "text/x-python",
   "name": "python",
   "nbconvert_exporter": "python",
   "pygments_lexer": "ipython3",
   "version": "3.13.3"
  }
 },
 "nbformat": 4,
 "nbformat_minor": 5
}
