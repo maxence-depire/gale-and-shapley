{
 "cells": [
  {
   "cell_type": "markdown",
   "id": "5ad33a74",
   "metadata": {},
   "source": [
    "# **Application de l'algorithme de Gale & Shapley.**"
   ]
  },
  {
   "cell_type": "markdown",
   "id": "88fa201f",
   "metadata": {},
   "source": [
    "# Liste des éléments avec leurs préférences."
   ]
  },
  {
   "cell_type": "code",
   "execution_count": 7,
   "id": "54f63167",
   "metadata": {},
   "outputs": [],
   "source": [
    "A = {}\n",
    "A[\"a1\"] = {\"order\": [\"b2\", \"b1\", \"b3\"], \"wedding\": None}\n",
    "A[\"a2\"] = {\"order\": [\"b1\", \"b3\", \"b2\"], \"wedding\": None}\n",
    "A[\"a3\"] = {\"order\": [\"b1\", \"b2\", \"b3\"], \"wedding\": None}\n",
    "\n",
    "B = {}\n",
    "B[\"b1\"] = {\"order\": [\"a1\", \"a3\", \"a2\"], \"wedding\": None}\n",
    "B[\"b2\"] = {\"order\": [\"a3\", \"a1\", \"a2\"], \"wedding\": None}\n",
    "B[\"b3\"] = {\"order\": [\"a3\", \"a2\", \"a1\"], \"wedding\": None}"
   ]
  },
  {
   "cell_type": "markdown",
   "id": "d0e67c00",
   "metadata": {},
   "source": [
    "# Algorithme principale."
   ]
  },
  {
   "cell_type": "code",
   "execution_count": 39,
   "id": "3169aab4",
   "metadata": {},
   "outputs": [],
   "source": [
    "def q_and_s(list_A, list_B):\n",
    "\n",
    "    for aX in list_A.keys():\n",
    "\n",
    "        if list_B[ list_A[aX][\"order\"][0] ][\"wedding\"] == None:\n",
    "            print(\"Diff from none\")\n",
    "\n",
    "    return"
   ]
  },
  {
   "cell_type": "code",
   "execution_count": 40,
   "id": "d00d88bf",
   "metadata": {},
   "outputs": [
    {
     "name": "stdout",
     "output_type": "stream",
     "text": [
      "Diff from none\n",
      "Diff from none\n",
      "Diff from none\n"
     ]
    }
   ],
   "source": [
    "q_and_s(A, B)"
   ]
  }
 ],
 "metadata": {
  "kernelspec": {
   "display_name": "venv",
   "language": "python",
   "name": "python3"
  },
  "language_info": {
   "codemirror_mode": {
    "name": "ipython",
    "version": 3
   },
   "file_extension": ".py",
   "mimetype": "text/x-python",
   "name": "python",
   "nbconvert_exporter": "python",
   "pygments_lexer": "ipython3",
   "version": "3.13.3"
  }
 },
 "nbformat": 4,
 "nbformat_minor": 5
}
