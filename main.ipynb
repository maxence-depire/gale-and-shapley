{
 "cells": [
  {
   "cell_type": "markdown",
   "id": "5ad33a74",
   "metadata": {},
   "source": [
    "# **Application de l'algorithme de Gale & Shapley.**\n",
    "\n",
    "On va avec dans notebook, appliquer l'algorithme de `Gale & Shapley`.\n",
    "\n",
    "Pour ça je conseille d'utiliser un environnement virtuel, pour installer lse bibliothèques.\n",
    "\n",
    "- Sous `MacOS` / `Linux` :\n",
    "`python3 -m venv venv`\n",
    "\n",
    "On va installer avec `pip` les bibliothèques suivantes :\n",
    "- `networkx` pour créer des graphes.\n",
    "- `matplotlib` pour construire un rendue de ses graphes.\n",
    "\n",
    "`pip install networkx matplotlib`"
   ]
  },
  {
   "cell_type": "code",
   "execution_count": 1,
   "id": "0c0ca4c8",
   "metadata": {},
   "outputs": [],
   "source": [
    "import matplotlib.pyplot as plt\n",
    "import networkx as nx"
   ]
  },
  {
   "cell_type": "markdown",
   "id": "88fa201f",
   "metadata": {},
   "source": [
    "# Liste des éléments avec leurs préférences.\n",
    "\n",
    "Les données d'entrée sont ici. On a deux groupes, $group_A$ et $group_B$.\n",
    "\n",
    "Dans chaque groupe, on a trois éléments, allant de $a1$ à $a3$, et $b1$ à $b3$.\n",
    "\n",
    "Chaque élément d'un groupe a des préférences concernant son futur partenaire. Par exemple avec $a2$ :\n",
    "\n",
    "```\n",
    "\"a2\" -> b1 > b3 > b2\n",
    "```\n",
    "\n",
    "Ici, on comprends que $a2$ préférent $b1$ à $b3$, et $b3$ à $b2$."
   ]
  },
  {
   "cell_type": "code",
   "execution_count": null,
   "id": "54f63167",
   "metadata": {},
   "outputs": [],
   "source": [
    "groupe_A = [\"a1\", \"a2\", \"a3\"]\n",
    "groupe_B = [\"b1\", \"b2\", \"b3\"]\n",
    "\n",
    "pref_groupe_A = {\n",
    "    \"a1\" : [\"b2\", \"b1\", \"b3\"],\n",
    "    \"a2\" : [\"b1\", \"b3\", \"b2\"],\n",
    "    \"a3\" : [\"b1\", \"b2\", \"b3\"]\n",
    "}\n",
    "pref_groupe_B = {\n",
    "    \"b1\" : [\"a1\", \"a3\", \"a2\"],\n",
    "    \"b2\" : [\"a3\", \"a1\", \"a2\"],\n",
    "    \"b3\" : [\"a3\", \"a2\", \"a1\"]\n",
    "}"
   ]
  },
  {
   "cell_type": "markdown",
   "id": "d0e67c00",
   "metadata": {},
   "source": [
    "# Algorithme principale."
   ]
  },
  {
   "cell_type": "code",
   "execution_count": null,
   "id": "3169aab4",
   "metadata": {},
   "outputs": [],
   "source": [
    "def gale_shapley(proposeurs, recepteurs, prefs_proposeurs, prefs_recepteurs):\n",
    "\n",
    "    # INIT\n",
    "    partenaires = {r: None for r in recepteurs} # Liste des mariées aux récépteurs\n",
    "    proposeurs_libres = proposeurs.copy() # Liste copie des proposeurs\n",
    "    propositions = {p: 0 for p in proposeurs} # Liste compteur de propositions\n",
    "\n",
    "    # TANT QUE il y a des proposeurs libres\n",
    "    while proposeurs_libres:\n",
    "\n",
    "        # On supprime le premier proposeur de la liste\n",
    "        proposeur = proposeurs_libres.pop(0)\n",
    "\n",
    "        # Trouver le prochain récepteur à proposer\n",
    "        index_pref = propositions[proposeur]\n",
    "        recepteur = prefs_proposeurs[proposeur][index_pref]\n",
    "\n",
    "        # SI le récepteur est libre ALORS...\n",
    "        if partenaires[recepteur] is None:\n",
    "            # ...On les maries\n",
    "            partenaires[recepteur] = proposeur\n",
    "        \n",
    "        # SINON\n",
    "        else:\n",
    "            # Comparer le nouveau proposeur avec le partenaire actuel\n",
    "            partenaire_actuel = partenaires[recepteur]\n",
    "            pref_recepteur = prefs_recepteurs[recepteur]\n",
    "\n",
    "            # SI le récepteur préfère le nouveau proposeur\n",
    "            if pref_recepteur.index(proposeur) < pref_recepteur.index(partenaire_actuel):\n",
    "                partenaires[recepteur] = proposeur\n",
    "                proposeurs_libres.append(partenaire_actuel)\n",
    "            # SINON on recommencera avec un autre au prochain tour\n",
    "            else:\n",
    "                proposeurs_libres.append(proposeur)\n",
    "\n",
    "        # On incrémente le compteur de proposition comme ça on passe à la suivante\n",
    "        propositions[proposeur] += 1\n",
    "\n",
    "    return partenaires\n"
   ]
  },
  {
   "cell_type": "markdown",
   "id": "fd0e5a74",
   "metadata": {},
   "source": [
    "# Graphe de la solution.\n",
    "\n",
    "Ici, on se charge de créer un graphe, pour illustrer la solutions trouvé par l'algorithme."
   ]
  },
  {
   "cell_type": "code",
   "execution_count": null,
   "id": "f69c607b",
   "metadata": {},
   "outputs": [],
   "source": [
    "# Exécuter l'algorithme\n",
    "resultat = gale_shapley(groupe_A, groupe_B, pref_groupe_A, pref_groupe_B)\n",
    "print(resultat)\n",
    "\n",
    "g = nx.Graph()\n",
    "for bX in resultat.keys():\n",
    "    g.add_node(bX)\n",
    "    g.add_node(resultat[bX])\n",
    "    g.add_edge(bX, resultat[bX])\n",
    "\n",
    "nx.draw(g, with_labels=True)"
   ]
  }
 ],
 "metadata": {
  "kernelspec": {
   "display_name": "venv",
   "language": "python",
   "name": "python3"
  },
  "language_info": {
   "codemirror_mode": {
    "name": "ipython",
    "version": 3
   },
   "file_extension": ".py",
   "mimetype": "text/x-python",
   "name": "python",
   "nbconvert_exporter": "python",
   "pygments_lexer": "ipython3",
   "version": "3.13.3"
  }
 },
 "nbformat": 4,
 "nbformat_minor": 5
}
