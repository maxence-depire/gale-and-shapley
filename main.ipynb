{
 "cells": [
  {
   "cell_type": "markdown",
   "id": "5ad33a74",
   "metadata": {},
   "source": [
    "# **Application de l'algorithme de Gale & Shapley.**"
   ]
  },
  {
   "cell_type": "markdown",
   "id": "88fa201f",
   "metadata": {},
   "source": [
    "# Liste des éléments avec leurs préférences."
   ]
  },
  {
   "cell_type": "code",
   "execution_count": 1,
   "id": "54f63167",
   "metadata": {},
   "outputs": [],
   "source": [
    "groupe_A = [\"a1\", \"a2\", \"a3\"]\n",
    "groupe_B = [\"b1\", \"b2\", \"b3\"]\n",
    "\n",
    "pref_groupe_A = {\n",
    "    \"a1\" : [\"b2\", \"b1\", \"b3\"],\n",
    "    \"a2\" : [\"b1\", \"b3\", \"b2\"],\n",
    "    \"a3\" : [\"b1\", \"b2\", \"b3\"]\n",
    "}\n",
    "pref_groupe_B = {\n",
    "    \"b1\" : [\"a1\", \"a3\", \"a2\"],\n",
    "    \"b2\" : [\"a3\", \"a1\", \"a2\"],\n",
    "    \"b3\" : [\"a3\", \"a2\", \"a1\"]\n",
    "}"
   ]
  },
  {
   "cell_type": "markdown",
   "id": "d0e67c00",
   "metadata": {},
   "source": [
    "# Algorithme principale."
   ]
  },
  {
   "cell_type": "code",
   "execution_count": null,
   "id": "3169aab4",
   "metadata": {},
   "outputs": [
    {
     "name": "stdout",
     "output_type": "stream",
     "text": [
      "{'a1': 0, 'a2': 0, 'a3': 0}\n",
      "{'b1': 'a3', 'b2': 'a1', 'b3': 'a2'}\n"
     ]
    }
   ],
   "source": [
    "def gale_shapley(proposeurs, recepteurs, prefs_proposeurs, prefs_recepteurs):\n",
    "\n",
    "    # INIT\n",
    "    partenaires = {r: None for r in recepteurs} # Liste des mariées aux récépteurs\n",
    "    proposeurs_libres = proposeurs.copy() # Liste copie des proposeurs\n",
    "    propositions = {p: 0 for p in proposeurs} # Liste compteur de propositions\n",
    "\n",
    "    # Tant qu'il y a des proposeurs libres\n",
    "    while proposeurs_libres:\n",
    "        proposeur = proposeurs_libres.pop(0)\n",
    "\n",
    "        # Trouver le prochain récepteur à proposer\n",
    "        index_pref = propositions[proposeur]\n",
    "        recepteur = prefs_proposeurs[proposeur][index_pref]\n",
    "\n",
    "        # Si le récepteur est libre\n",
    "        if partenaires[recepteur] is None:\n",
    "            partenaires[recepteur] = proposeur\n",
    "        else:\n",
    "            # Comparer le nouveau proposeur avec le partenaire actuel\n",
    "            partenaire_actuel = partenaires[recepteur]\n",
    "            pref_recepteur = prefs_recepteurs[recepteur]\n",
    "\n",
    "            # Si le récepteur préfère le nouveau proposeur\n",
    "            if pref_recepteur.index(proposeur) < pref_recepteur.index(partenaire_actuel):\n",
    "                partenaires[recepteur] = proposeur\n",
    "                proposeurs_libres.append(partenaire_actuel)\n",
    "            else:\n",
    "                proposeurs_libres.append(proposeur)\n",
    "\n",
    "        # Passer à la prochaine préférence pour le proposeur\n",
    "        propositions[proposeur] += 1\n",
    "\n",
    "    return partenaires\n",
    "\n",
    "# Exécuter l'algorithme\n",
    "resultat = gale_shapley(groupe_A, groupe_B, pref_groupe_A, pref_groupe_B)\n",
    "print(resultat)\n"
   ]
  },
  {
   "cell_type": "code",
   "execution_count": null,
   "id": "f69c607b",
   "metadata": {},
   "outputs": [],
   "source": []
  }
 ],
 "metadata": {
  "kernelspec": {
   "display_name": "Python 3",
   "language": "python",
   "name": "python3"
  },
  "language_info": {
   "codemirror_mode": {
    "name": "ipython",
    "version": 3
   },
   "file_extension": ".py",
   "mimetype": "text/x-python",
   "name": "python",
   "nbconvert_exporter": "python",
   "pygments_lexer": "ipython3",
   "version": "3.13.2"
  }
 },
 "nbformat": 4,
 "nbformat_minor": 5
}
